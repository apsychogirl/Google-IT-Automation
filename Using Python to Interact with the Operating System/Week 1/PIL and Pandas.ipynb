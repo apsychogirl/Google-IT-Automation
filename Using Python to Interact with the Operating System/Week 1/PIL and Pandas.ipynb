{
 "cells": [
  {
   "cell_type": "markdown",
   "metadata": {},
   "source": [
    "# Python Packages"
   ]
  },
  {
   "cell_type": "markdown",
   "metadata": {},
   "source": [
    "## PIL Module"
   ]
  },
  {
   "cell_type": "markdown",
   "metadata": {},
   "source": [
    "Say we're task of writing some Automation software that resizes images to fit a specific size.\n",
    "We can accomplish this by using\n",
    "the Python imaging library known as PIL module.\n",
    "This includes a ton of image manipulation functionality. "
   ]
  },
  {
   "cell_type": "code",
   "execution_count": 1,
   "metadata": {},
   "outputs": [],
   "source": [
    "import PIL.Image\n",
    "image = PIL.Image.open(\"houses.jpeg\")"
   ]
  },
  {
   "cell_type": "markdown",
   "metadata": {},
   "source": [
    "The PIL module is very large,\n",
    "because it includes tons of\n",
    "things that we can do for images.\n",
    "For this example, we want to open\n",
    "our image and check its size and format.\n",
    "So we've imported the image sub-module\n",
    "inside the PIL module.\n",
    "Now let's open a file in\n",
    "our home directory using the Open method. "
   ]
  },
  {
   "cell_type": "code",
   "execution_count": 2,
   "metadata": {},
   "outputs": [
    {
     "name": "stdout",
     "output_type": "stream",
     "text": [
      "(250, 201)\n"
     ]
    }
   ],
   "source": [
    "print(image.size)"
   ]
  },
  {
   "cell_type": "code",
   "execution_count": 3,
   "metadata": {},
   "outputs": [
    {
     "name": "stdout",
     "output_type": "stream",
     "text": [
      "JPEG\n"
     ]
    }
   ],
   "source": [
    "print(image.format)"
   ]
  },
  {
   "cell_type": "markdown",
   "metadata": {},
   "source": [
    "## Pandas Module"
   ]
  },
  {
   "cell_type": "markdown",
   "metadata": {},
   "source": [
    "Imagine that you're tasked\n",
    "with creating an automation that\n",
    "processes the error log from a web service and\n",
    "then generate statistics on the amount of errors,\n",
    "or when the most errors occur.\n",
    "To do this kind of Data Processing,\n",
    "we could use our CUDA sounding module yet Pandas,\n",
    "which is widely used in the Data Analysis field.\n"
   ]
  },
  {
   "cell_type": "code",
   "execution_count": 4,
   "metadata": {},
   "outputs": [],
   "source": [
    "import pandas"
   ]
  },
  {
   "cell_type": "code",
   "execution_count": 5,
   "metadata": {},
   "outputs": [],
   "source": [
    "visitors = [5465, 6785, 8795, 4545, 9856]\n",
    "errors = [45, 56, 22, 65, 87]"
   ]
  },
  {
   "cell_type": "code",
   "execution_count": 6,
   "metadata": {},
   "outputs": [],
   "source": [
    "df = pandas.DataFrame({\"visitors\": visitors, \"errors\": errors}, index = [\"Mon\", \"Tue\", \"Wed\", \"Thu\", \"Fri\"])"
   ]
  },
  {
   "cell_type": "code",
   "execution_count": 7,
   "metadata": {},
   "outputs": [
    {
     "name": "stdout",
     "output_type": "stream",
     "text": [
      "     visitors  errors\n",
      "Mon      5465      45\n",
      "Tue      6785      56\n",
      "Wed      8795      22\n",
      "Thu      4545      65\n",
      "Fri      9856      87\n"
     ]
    }
   ],
   "source": [
    "print(df)"
   ]
  },
  {
   "cell_type": "markdown",
   "metadata": {},
   "source": [
    "With that being calculated in tabular form. We can easily get the mathematical operations done on any single column."
   ]
  },
  {
   "cell_type": "code",
   "execution_count": 10,
   "metadata": {},
   "outputs": [
    {
     "data": {
      "text/plain": [
       "55.0"
      ]
     },
     "execution_count": 10,
     "metadata": {},
     "output_type": "execute_result"
    }
   ],
   "source": [
    "df[\"errors\"].mean()"
   ]
  },
  {
   "cell_type": "code",
   "execution_count": null,
   "metadata": {},
   "outputs": [],
   "source": []
  }
 ],
 "metadata": {
  "kernelspec": {
   "display_name": "Python 3",
   "language": "python",
   "name": "python3"
  },
  "language_info": {
   "codemirror_mode": {
    "name": "ipython",
    "version": 3
   },
   "file_extension": ".py",
   "mimetype": "text/x-python",
   "name": "python",
   "nbconvert_exporter": "python",
   "pygments_lexer": "ipython3",
   "version": "3.8.2"
  }
 },
 "nbformat": 4,
 "nbformat_minor": 4
}
