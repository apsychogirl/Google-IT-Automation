{
 "cells": [
  {
   "cell_type": "markdown",
   "metadata": {},
   "source": [
    "# Running Scripts And Automating Things"
   ]
  },
  {
   "cell_type": "markdown",
   "metadata": {},
   "source": [
    "To run your files as Scripts, you need to make them executables by giving \"execute\" permission, along with shebang in the script."
   ]
  },
  {
   "cell_type": "code",
   "execution_count": 1,
   "metadata": {},
   "outputs": [
    {
     "name": "stdout",
     "output_type": "stream",
     "text": [
      "Hello World\n"
     ]
    }
   ],
   "source": [
    "#!/usr//bin/env python3\n",
    "print (\"Hello World\")"
   ]
  },
  {
   "cell_type": "markdown",
   "metadata": {},
   "source": [
    "Save this in a file, let \"hello_world.py\" and change the permissions"
   ]
  },
  {
   "cell_type": "raw",
   "metadata": {},
   "source": [
    "chmod +x hello_world.py"
   ]
  },
  {
   "cell_type": "raw",
   "metadata": {},
   "source": [
    "./hello_world.py"
   ]
  },
  {
   "cell_type": "markdown",
   "metadata": {},
   "source": [
    "### Health Monitor Script"
   ]
  },
  {
   "cell_type": "markdown",
   "metadata": {},
   "source": [
    "Say for example that you\n",
    "wanted to check the health of your computer.\n",
    "This can call for a lot of different checks,\n",
    "verifying that there is enough disk space,\n",
    "that the processor isn't an overloaded,\n",
    "that it has the latest security updates,\n",
    "and that it's running services it's supposed to.\n",
    "To verify all of this,\n",
    "we need to know how to check each of these values. "
   ]
  },
  {
   "cell_type": "markdown",
   "metadata": {},
   "source": [
    "For example, we can use a shutil module\n",
    "and a disk_usage function\n",
    "to check the current available disk space.\n",
    "Let's try it out in the interpreter.\n",
    "We'll start by importing the shutil module,\n",
    "then get the disk_usage.\n",
    "Let's print the variable and see what's in it. "
   ]
  },
  {
   "cell_type": "code",
   "execution_count": 3,
   "metadata": {},
   "outputs": [
    {
     "name": "stdout",
     "output_type": "stream",
     "text": [
      "usage(total=602420723712, used=54162276352, free=517585715200)\n"
     ]
    }
   ],
   "source": [
    "import shutil\n",
    "du = shutil.disk_usage(\"/\")\n",
    "print(du)"
   ]
  },
  {
   "cell_type": "markdown",
   "metadata": {},
   "source": [
    "Cool, so we get the total number of bytes on disk,\n",
    "the amount that's used and the amount that's free.\n",
    "We can calculate the percentage of\n",
    "free disk space by dividing the number of\n",
    "bytes free by the total and multiplying that by 100. "
   ]
  },
  {
   "cell_type": "code",
   "execution_count": 4,
   "metadata": {},
   "outputs": [
    {
     "data": {
      "text/plain": [
       "85.91764772146895"
      ]
     },
     "execution_count": 4,
     "metadata": {},
     "output_type": "execute_result"
    }
   ],
   "source": [
    "du.free/du.total * 100"
   ]
  },
  {
   "cell_type": "markdown",
   "metadata": {},
   "source": [
    "All right. But what about cpu_usage?\n",
    "For this, we can use another module called psutil.\n",
    "This includes a cpu_percent function that\n",
    "returns a number showing how\n",
    "much of the CPU is being used.\n",
    "The amount of CPU used at each instant can change a lot,\n",
    "since processes are starting and finishing all the time.\n",
    "So this function receives\n",
    "an interval of seconds and returns\n",
    "an average percentage of usage\n",
    "in that interval. Let's try it out.\n",
    "We'll start by importing the psutil module. "
   ]
  },
  {
   "cell_type": "code",
   "execution_count": 7,
   "metadata": {},
   "outputs": [],
   "source": [
    "import psutil"
   ]
  },
  {
   "cell_type": "markdown",
   "metadata": {},
   "source": [
    "Then call the cpu_percent function with 0.1 seconds.\n"
   ]
  },
  {
   "cell_type": "code",
   "execution_count": 8,
   "metadata": {},
   "outputs": [
    {
     "data": {
      "text/plain": [
       "34.2"
      ]
     },
     "execution_count": 8,
     "metadata": {},
     "output_type": "execute_result"
    }
   ],
   "source": [
    "psutil.cpu_percent(0.1)"
   ]
  },
  {
   "cell_type": "markdown",
   "metadata": {},
   "source": [
    "\n",
    "So we've done a bunch of research,\n",
    "now we can write our health checking script.\n",
    "Will kick off with a script that'll do two health checks. "
   ]
  },
  {
   "cell_type": "markdown",
   "metadata": {},
   "source": [
    "First, we'll set our script to\n",
    "use the Python interpreter with a shebang. "
   ]
  },
  {
   "cell_type": "markdown",
   "metadata": {},
   "source": [
    "We know that we'll use shutil and psutil,\n",
    "so let's import those two modules.\n",
    "Let's first define a check_disk_usage\n",
    "function that will receive\n",
    "a distant check and return true if there's\n",
    "more than 20 percent free or false if it's less.\n",
    "Now let's write another function called check_cpu_usage.\n",
    "In this case, we'll check the usage for a whole second.\n",
    "We'll say the machine is healthy,\n",
    "it a cpu_usage is less than 75 percent.\n",
    "\n",
    "Let's now add the main body of our script where we'll\n",
    "check if either of those two functions returns false.\n",
    "So here, we're just\n",
    "printing a message that the user will see.\n",
    "We'll improve on the script later on once we've\n",
    "learned better ways of notifying\n",
    "our system administrators.\n",
    "Were almost done. Let's save our script,\n",
    "make it executable, and run it. "
   ]
  },
  {
   "cell_type": "code",
   "execution_count": 10,
   "metadata": {},
   "outputs": [],
   "source": [
    "import shutil\n",
    "import psutil\n"
   ]
  },
  {
   "cell_type": "code",
   "execution_count": 11,
   "metadata": {},
   "outputs": [],
   "source": [
    "def check_disk_usage(disk):\n",
    "    du = shutil.disk_usage(disk)\n",
    "    free = du.free / du.total * 100\n",
    "    return free > 20"
   ]
  },
  {
   "cell_type": "code",
   "execution_count": 12,
   "metadata": {},
   "outputs": [],
   "source": [
    "def check_cpu_usage():\n",
    "    usage = psutil.cpu_percent(1)\n",
    "    return usage < 75"
   ]
  },
  {
   "cell_type": "code",
   "execution_count": 13,
   "metadata": {},
   "outputs": [
    {
     "name": "stdout",
     "output_type": "stream",
     "text": [
      "Everything is OKAY!\n"
     ]
    }
   ],
   "source": [
    "if not check_disk_usage(\"/\") or not check_cpu_usage:\n",
    "    print(\"ERROR!\")\n",
    "else:\n",
    "    print(\"Everything is OKAY!\")"
   ]
  },
  {
   "cell_type": "code",
   "execution_count": null,
   "metadata": {},
   "outputs": [],
   "source": []
  }
 ],
 "metadata": {
  "kernelspec": {
   "display_name": "Python 3",
   "language": "python",
   "name": "python3"
  },
  "language_info": {
   "codemirror_mode": {
    "name": "ipython",
    "version": 3
   },
   "file_extension": ".py",
   "mimetype": "text/x-python",
   "name": "python",
   "nbconvert_exporter": "python",
   "pygments_lexer": "ipython3",
   "version": "3.8.2"
  }
 },
 "nbformat": 4,
 "nbformat_minor": 4
}
